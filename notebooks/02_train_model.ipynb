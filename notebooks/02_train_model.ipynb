{
 "cells": [
  {
   "cell_type": "code",
   "execution_count": 2,
   "id": "a1148522-aa8e-47bf-bd74-93cb79d93b81",
   "metadata": {},
   "outputs": [],
   "source": [
    "import pandas as pd\n",
    "import os\n",
    "from surprise import Dataset, Reader\n",
    "from surprise.model_selection import train_test_split\n"
   ]
  },
  {
   "cell_type": "code",
   "execution_count": 3,
   "id": "4cddc938-35d9-4f8f-a620-d88699f2d26c",
   "metadata": {},
   "outputs": [
    {
     "name": "stdout",
     "output_type": "stream",
     "text": [
      "Train size: 75627, Test size: 25209\n"
     ]
    }
   ],
   "source": [
    "# Path to your data\n",
    "file_path = \"../data/ratings.csv\"\n",
    "\n",
    "# Tell Surprise how to read it\n",
    "reader = Reader(line_format=\"user item rating timestamp\", sep=\",\", skip_lines=1, rating_scale=(0.5, 5.0))\n",
    "\n",
    "# Load the dataset from your CSV\n",
    "data = Dataset.load_from_file(file_path, reader=reader)\n",
    "\n",
    "trainset, testset = train_test_split(data, test_size=0.25)\n",
    "print(f\"Train size: {trainset.n_ratings}, Test size: {len(testset)}\")\n",
    "\n",
    "\n"
   ]
  },
  {
   "cell_type": "code",
   "execution_count": 4,
   "id": "65b11e77-7dc3-45a3-afb0-cc984174b953",
   "metadata": {},
   "outputs": [
    {
     "name": "stdout",
     "output_type": "stream",
     "text": [
      "RMSE: 0.8715\n"
     ]
    },
    {
     "data": {
      "text/plain": [
       "0.8715320706822531"
      ]
     },
     "execution_count": 4,
     "metadata": {},
     "output_type": "execute_result"
    }
   ],
   "source": [
    "from surprise import SVD\n",
    "from surprise import accuracy\n",
    "\n",
    "# Create the algorithm\n",
    "model = SVD()\n",
    "\n",
    "# Train the model\n",
    "model.fit(trainset)\n",
    "\n",
    "# Test it\n",
    "predictions = model.test(testset)\n",
    "\n",
    "# Evaluate accuracy\n",
    "accuracy.rmse(predictions)\n"
   ]
  },
  {
   "cell_type": "code",
   "execution_count": 5,
   "id": "ec324b53-9b98-4e82-a3b5-deb1f6d356ca",
   "metadata": {},
   "outputs": [
    {
     "name": "stdout",
     "output_type": "stream",
     "text": [
      "Movie ID: 318 | Predicted rating: 5.0\n",
      "Movie ID: 356 | Predicted rating: 5.0\n",
      "Movie ID: 4011 | Predicted rating: 5.0\n",
      "Movie ID: 58559 | Predicted rating: 5.0\n",
      "Movie ID: 778 | Predicted rating: 5.0\n",
      "Movie ID: 3083 | Predicted rating: 5.0\n",
      "Movie ID: 1193 | Predicted rating: 5.0\n",
      "Movie ID: 2324 | Predicted rating: 5.0\n",
      "Movie ID: 1276 | Predicted rating: 5.0\n",
      "Movie ID: 1104 | Predicted rating: 5.0\n"
     ]
    }
   ],
   "source": [
    "# Get all item IDs from the training set\n",
    "all_movies = trainset.all_items()\n",
    "\n",
    "# Convert Surprise’s internal IDs back to raw movie IDs\n",
    "all_movie_ids = [trainset.to_raw_iid(inner_id) for inner_id in all_movies]\n",
    "\n",
    "# Pick a target user\n",
    "target_user = \"1\"\n",
    "\n",
    "# Get the user’s rated movies from the training set\n",
    "user_rated = [item for (item, _) in trainset.ur[trainset.to_inner_uid(target_user)]]\n",
    "user_rated_ids = [trainset.to_raw_iid(inner_id) for inner_id in user_rated]\n",
    "\n",
    "# Find unseen movies\n",
    "unseen_movies = [mid for mid in all_movie_ids if mid not in user_rated_ids]\n",
    "\n",
    "# Predict ratings\n",
    "predictions = [model.predict(target_user, mid) for mid in unseen_movies]\n",
    "\n",
    "# Sort predictions by estimated rating\n",
    "predictions.sort(key=lambda x: x.est, reverse=True)\n",
    "\n",
    "# Choose top 10\n",
    "top_n = predictions[:10]\n",
    "\n",
    "# Display\n",
    "for pred in top_n:\n",
    "    print(f\"Movie ID: {pred.iid} | Predicted rating: {round(pred.est, 2)}\")\n"
   ]
  },
  {
   "cell_type": "code",
   "execution_count": 6,
   "id": "b57bc943-b75f-4c7a-a768-958a3ff4ad74",
   "metadata": {},
   "outputs": [
    {
     "name": "stdout",
     "output_type": "stream",
     "text": [
      "Shawshank Redemption, The (1994) (Predicted: 5.0)\n",
      "Forrest Gump (1994) (Predicted: 5.0)\n",
      "Snatch (2000) (Predicted: 5.0)\n",
      "Dark Knight, The (2008) (Predicted: 5.0)\n",
      "Trainspotting (1996) (Predicted: 5.0)\n",
      "All About My Mother (Todo sobre mi madre) (1999) (Predicted: 5.0)\n",
      "One Flew Over the Cuckoo's Nest (1975) (Predicted: 5.0)\n",
      "Life Is Beautiful (La Vita è bella) (1997) (Predicted: 5.0)\n",
      "Cool Hand Luke (1967) (Predicted: 5.0)\n",
      "Streetcar Named Desire, A (1951) (Predicted: 5.0)\n"
     ]
    }
   ],
   "source": [
    "import pandas as pd\n",
    "\n",
    "movies_df = pd.read_csv(\"../data/movies.csv\")\n",
    "movie_map = dict(zip(movies_df[\"movieId\"].astype(str), movies_df[\"title\"]))\n",
    "\n",
    "# Display top recommendations with titles\n",
    "for pred in top_n:\n",
    "    title = movie_map.get(pred.iid, \"Unknown\")\n",
    "    print(f\"{title} (Predicted: {round(pred.est, 2)})\")\n"
   ]
  },
  {
   "cell_type": "code",
   "execution_count": 7,
   "id": "1ecd3258-8a0f-4344-a50b-32bb567cf933",
   "metadata": {},
   "outputs": [
    {
     "name": "stdout",
     "output_type": "stream",
     "text": [
      "C:\\Users\\andre\\Documents\\Movie-Recommender\\notebooks\n",
      "['.ipynb_checkpoints', '01_data_something.ipynb', '02_train_model.ipynb']\n"
     ]
    }
   ],
   "source": [
    "import os\n",
    "\n",
    "print(os.getcwd())  # Shows your current folder\n",
    "print(os.listdir())  # Lists all files\n"
   ]
  },
  {
   "cell_type": "code",
   "execution_count": 8,
   "id": "0ea187a0-57cc-4502-bc46-e3fc6ad521c6",
   "metadata": {},
   "outputs": [
    {
     "name": "stdout",
     "output_type": "stream",
     "text": [
      "🎥 Movies:\n"
     ]
    },
    {
     "data": {
      "text/html": [
       "<div>\n",
       "<style scoped>\n",
       "    .dataframe tbody tr th:only-of-type {\n",
       "        vertical-align: middle;\n",
       "    }\n",
       "\n",
       "    .dataframe tbody tr th {\n",
       "        vertical-align: top;\n",
       "    }\n",
       "\n",
       "    .dataframe thead th {\n",
       "        text-align: right;\n",
       "    }\n",
       "</style>\n",
       "<table border=\"1\" class=\"dataframe\">\n",
       "  <thead>\n",
       "    <tr style=\"text-align: right;\">\n",
       "      <th></th>\n",
       "      <th>movieId</th>\n",
       "      <th>title</th>\n",
       "      <th>genres</th>\n",
       "    </tr>\n",
       "  </thead>\n",
       "  <tbody>\n",
       "    <tr>\n",
       "      <th>0</th>\n",
       "      <td>1</td>\n",
       "      <td>Toy Story (1995)</td>\n",
       "      <td>Adventure|Animation|Children|Comedy|Fantasy</td>\n",
       "    </tr>\n",
       "    <tr>\n",
       "      <th>1</th>\n",
       "      <td>2</td>\n",
       "      <td>Jumanji (1995)</td>\n",
       "      <td>Adventure|Children|Fantasy</td>\n",
       "    </tr>\n",
       "    <tr>\n",
       "      <th>2</th>\n",
       "      <td>3</td>\n",
       "      <td>Grumpier Old Men (1995)</td>\n",
       "      <td>Comedy|Romance</td>\n",
       "    </tr>\n",
       "    <tr>\n",
       "      <th>3</th>\n",
       "      <td>4</td>\n",
       "      <td>Waiting to Exhale (1995)</td>\n",
       "      <td>Comedy|Drama|Romance</td>\n",
       "    </tr>\n",
       "    <tr>\n",
       "      <th>4</th>\n",
       "      <td>5</td>\n",
       "      <td>Father of the Bride Part II (1995)</td>\n",
       "      <td>Comedy</td>\n",
       "    </tr>\n",
       "  </tbody>\n",
       "</table>\n",
       "</div>"
      ],
      "text/plain": [
       "   movieId                               title  \\\n",
       "0        1                    Toy Story (1995)   \n",
       "1        2                      Jumanji (1995)   \n",
       "2        3             Grumpier Old Men (1995)   \n",
       "3        4            Waiting to Exhale (1995)   \n",
       "4        5  Father of the Bride Part II (1995)   \n",
       "\n",
       "                                        genres  \n",
       "0  Adventure|Animation|Children|Comedy|Fantasy  \n",
       "1                   Adventure|Children|Fantasy  \n",
       "2                               Comedy|Romance  \n",
       "3                         Comedy|Drama|Romance  \n",
       "4                                       Comedy  "
      ]
     },
     "metadata": {},
     "output_type": "display_data"
    },
    {
     "name": "stdout",
     "output_type": "stream",
     "text": [
      "⭐ Ratings:\n"
     ]
    },
    {
     "data": {
      "text/html": [
       "<div>\n",
       "<style scoped>\n",
       "    .dataframe tbody tr th:only-of-type {\n",
       "        vertical-align: middle;\n",
       "    }\n",
       "\n",
       "    .dataframe tbody tr th {\n",
       "        vertical-align: top;\n",
       "    }\n",
       "\n",
       "    .dataframe thead th {\n",
       "        text-align: right;\n",
       "    }\n",
       "</style>\n",
       "<table border=\"1\" class=\"dataframe\">\n",
       "  <thead>\n",
       "    <tr style=\"text-align: right;\">\n",
       "      <th></th>\n",
       "      <th>userId</th>\n",
       "      <th>movieId</th>\n",
       "      <th>rating</th>\n",
       "      <th>timestamp</th>\n",
       "    </tr>\n",
       "  </thead>\n",
       "  <tbody>\n",
       "    <tr>\n",
       "      <th>0</th>\n",
       "      <td>1</td>\n",
       "      <td>1</td>\n",
       "      <td>4.0</td>\n",
       "      <td>964982703</td>\n",
       "    </tr>\n",
       "    <tr>\n",
       "      <th>1</th>\n",
       "      <td>1</td>\n",
       "      <td>3</td>\n",
       "      <td>4.0</td>\n",
       "      <td>964981247</td>\n",
       "    </tr>\n",
       "    <tr>\n",
       "      <th>2</th>\n",
       "      <td>1</td>\n",
       "      <td>6</td>\n",
       "      <td>4.0</td>\n",
       "      <td>964982224</td>\n",
       "    </tr>\n",
       "    <tr>\n",
       "      <th>3</th>\n",
       "      <td>1</td>\n",
       "      <td>47</td>\n",
       "      <td>5.0</td>\n",
       "      <td>964983815</td>\n",
       "    </tr>\n",
       "    <tr>\n",
       "      <th>4</th>\n",
       "      <td>1</td>\n",
       "      <td>50</td>\n",
       "      <td>5.0</td>\n",
       "      <td>964982931</td>\n",
       "    </tr>\n",
       "  </tbody>\n",
       "</table>\n",
       "</div>"
      ],
      "text/plain": [
       "   userId  movieId  rating  timestamp\n",
       "0       1        1     4.0  964982703\n",
       "1       1        3     4.0  964981247\n",
       "2       1        6     4.0  964982224\n",
       "3       1       47     5.0  964983815\n",
       "4       1       50     5.0  964982931"
      ]
     },
     "metadata": {},
     "output_type": "display_data"
    }
   ],
   "source": [
    "data_path = os.path.join(\"data\", \"ml-latest-small\")\n",
    "movies = pd.read_csv(\"../data/movies.csv\")\n",
    "ratings = pd.read_csv(\"../data/ratings.csv\")\n",
    "\n",
    "\n",
    "print(\"🎥 Movies:\")\n",
    "display(movies.head())\n",
    "\n",
    "print(\"⭐ Ratings:\")\n",
    "display(ratings.head())\n",
    "\n"
   ]
  },
  {
   "cell_type": "code",
   "execution_count": 9,
   "id": "9ada0fc7-0be9-4c4f-9627-7dc3b139da24",
   "metadata": {},
   "outputs": [
    {
     "name": "stdout",
     "output_type": "stream",
     "text": [
      "movieId    0\n",
      "title      0\n",
      "genres     0\n",
      "dtype: int64\n",
      "Duplicate movieIds: 0\n"
     ]
    }
   ],
   "source": [
    "# Check for missing values\n",
    "print(movies.isnull().sum())\n",
    "\n",
    "# Check for duplicates\n",
    "print(\"Duplicate movieIds:\", movies['movieId'].duplicated().sum())\n"
   ]
  },
  {
   "cell_type": "code",
   "execution_count": 10,
   "id": "64bbc29e-3d84-430d-a165-9889f7db221e",
   "metadata": {},
   "outputs": [
    {
     "data": {
      "text/html": [
       "<div>\n",
       "<style scoped>\n",
       "    .dataframe tbody tr th:only-of-type {\n",
       "        vertical-align: middle;\n",
       "    }\n",
       "\n",
       "    .dataframe tbody tr th {\n",
       "        vertical-align: top;\n",
       "    }\n",
       "\n",
       "    .dataframe thead th {\n",
       "        text-align: right;\n",
       "    }\n",
       "</style>\n",
       "<table border=\"1\" class=\"dataframe\">\n",
       "  <thead>\n",
       "    <tr style=\"text-align: right;\">\n",
       "      <th></th>\n",
       "      <th>userId</th>\n",
       "      <th>movieId</th>\n",
       "      <th>rating</th>\n",
       "      <th>timestamp</th>\n",
       "    </tr>\n",
       "  </thead>\n",
       "  <tbody>\n",
       "    <tr>\n",
       "      <th>0</th>\n",
       "      <td>1</td>\n",
       "      <td>1</td>\n",
       "      <td>4.0</td>\n",
       "      <td>964982703</td>\n",
       "    </tr>\n",
       "    <tr>\n",
       "      <th>1</th>\n",
       "      <td>1</td>\n",
       "      <td>3</td>\n",
       "      <td>4.0</td>\n",
       "      <td>964981247</td>\n",
       "    </tr>\n",
       "    <tr>\n",
       "      <th>2</th>\n",
       "      <td>1</td>\n",
       "      <td>6</td>\n",
       "      <td>4.0</td>\n",
       "      <td>964982224</td>\n",
       "    </tr>\n",
       "    <tr>\n",
       "      <th>3</th>\n",
       "      <td>1</td>\n",
       "      <td>47</td>\n",
       "      <td>5.0</td>\n",
       "      <td>964983815</td>\n",
       "    </tr>\n",
       "    <tr>\n",
       "      <th>4</th>\n",
       "      <td>1</td>\n",
       "      <td>50</td>\n",
       "      <td>5.0</td>\n",
       "      <td>964982931</td>\n",
       "    </tr>\n",
       "  </tbody>\n",
       "</table>\n",
       "</div>"
      ],
      "text/plain": [
       "   userId  movieId  rating  timestamp\n",
       "0       1        1     4.0  964982703\n",
       "1       1        3     4.0  964981247\n",
       "2       1        6     4.0  964982224\n",
       "3       1       47     5.0  964983815\n",
       "4       1       50     5.0  964982931"
      ]
     },
     "execution_count": 10,
     "metadata": {},
     "output_type": "execute_result"
    }
   ],
   "source": [
    "# Check first few rows\n",
    "ratings.head()\n"
   ]
  },
  {
   "cell_type": "code",
   "execution_count": 11,
   "id": "e568108a-e6fb-492f-9e59-b6dfea3cd8b6",
   "metadata": {},
   "outputs": [
    {
     "name": "stdout",
     "output_type": "stream",
     "text": [
      "userId       0\n",
      "movieId      0\n",
      "rating       0\n",
      "timestamp    0\n",
      "dtype: int64\n",
      "Min rating: 0.5\n",
      "Max rating: 5.0\n",
      "Duplicate ratings: 0\n"
     ]
    }
   ],
   "source": [
    "# Check for missing values\n",
    "print(ratings.isnull().sum())\n",
    "\n",
    "# Check rating range\n",
    "print(\"Min rating:\", ratings['rating'].min())\n",
    "print(\"Max rating:\", ratings['rating'].max())\n",
    "\n",
    "# Check for duplicates\n",
    "duplicates = ratings.duplicated(subset=['userId','movieId'])\n",
    "print(\"Duplicate ratings:\", duplicates.sum())\n"
   ]
  },
  {
   "cell_type": "code",
   "execution_count": 12,
   "id": "5955143c-b303-4431-a702-88ff3a891847",
   "metadata": {},
   "outputs": [
    {
     "name": "stdout",
     "output_type": "stream",
     "text": [
      "Number of users: 610\n",
      "Number of movies: 9724\n"
     ]
    }
   ],
   "source": [
    "ratings = ratings.drop_duplicates(subset=['userId','movieId'])\n",
    "\n",
    "num_users = ratings['userId'].nunique()\n",
    "num_movies = ratings['movieId'].nunique()\n",
    "print(f\"Number of users: {num_users}\")\n",
    "print(f\"Number of movies: {num_movies}\")\n"
   ]
  },
  {
   "cell_type": "code",
   "execution_count": 13,
   "id": "d9830964-1657-4531-8b96-9b7e6a1b4079",
   "metadata": {},
   "outputs": [
    {
     "data": {
      "text/html": [
       "<div>\n",
       "<style scoped>\n",
       "    .dataframe tbody tr th:only-of-type {\n",
       "        vertical-align: middle;\n",
       "    }\n",
       "\n",
       "    .dataframe tbody tr th {\n",
       "        vertical-align: top;\n",
       "    }\n",
       "\n",
       "    .dataframe thead th {\n",
       "        text-align: right;\n",
       "    }\n",
       "</style>\n",
       "<table border=\"1\" class=\"dataframe\">\n",
       "  <thead>\n",
       "    <tr style=\"text-align: right;\">\n",
       "      <th></th>\n",
       "      <th>userId</th>\n",
       "      <th>movieId</th>\n",
       "      <th>rating</th>\n",
       "      <th>timestamp</th>\n",
       "      <th>title</th>\n",
       "      <th>genres</th>\n",
       "    </tr>\n",
       "  </thead>\n",
       "  <tbody>\n",
       "    <tr>\n",
       "      <th>0</th>\n",
       "      <td>1</td>\n",
       "      <td>1</td>\n",
       "      <td>4.0</td>\n",
       "      <td>964982703</td>\n",
       "      <td>Toy Story (1995)</td>\n",
       "      <td>Adventure|Animation|Children|Comedy|Fantasy</td>\n",
       "    </tr>\n",
       "    <tr>\n",
       "      <th>1</th>\n",
       "      <td>1</td>\n",
       "      <td>3</td>\n",
       "      <td>4.0</td>\n",
       "      <td>964981247</td>\n",
       "      <td>Grumpier Old Men (1995)</td>\n",
       "      <td>Comedy|Romance</td>\n",
       "    </tr>\n",
       "    <tr>\n",
       "      <th>2</th>\n",
       "      <td>1</td>\n",
       "      <td>6</td>\n",
       "      <td>4.0</td>\n",
       "      <td>964982224</td>\n",
       "      <td>Heat (1995)</td>\n",
       "      <td>Action|Crime|Thriller</td>\n",
       "    </tr>\n",
       "    <tr>\n",
       "      <th>3</th>\n",
       "      <td>1</td>\n",
       "      <td>47</td>\n",
       "      <td>5.0</td>\n",
       "      <td>964983815</td>\n",
       "      <td>Seven (a.k.a. Se7en) (1995)</td>\n",
       "      <td>Mystery|Thriller</td>\n",
       "    </tr>\n",
       "    <tr>\n",
       "      <th>4</th>\n",
       "      <td>1</td>\n",
       "      <td>50</td>\n",
       "      <td>5.0</td>\n",
       "      <td>964982931</td>\n",
       "      <td>Usual Suspects, The (1995)</td>\n",
       "      <td>Crime|Mystery|Thriller</td>\n",
       "    </tr>\n",
       "  </tbody>\n",
       "</table>\n",
       "</div>"
      ],
      "text/plain": [
       "   userId  movieId  rating  timestamp                        title  \\\n",
       "0       1        1     4.0  964982703             Toy Story (1995)   \n",
       "1       1        3     4.0  964981247      Grumpier Old Men (1995)   \n",
       "2       1        6     4.0  964982224                  Heat (1995)   \n",
       "3       1       47     5.0  964983815  Seven (a.k.a. Se7en) (1995)   \n",
       "4       1       50     5.0  964982931   Usual Suspects, The (1995)   \n",
       "\n",
       "                                        genres  \n",
       "0  Adventure|Animation|Children|Comedy|Fantasy  \n",
       "1                               Comedy|Romance  \n",
       "2                        Action|Crime|Thriller  \n",
       "3                             Mystery|Thriller  \n",
       "4                       Crime|Mystery|Thriller  "
      ]
     },
     "execution_count": 13,
     "metadata": {},
     "output_type": "execute_result"
    }
   ],
   "source": [
    "df = ratings.merge(movies, on='movieId', how='left')\n",
    "df.head()\n"
   ]
  },
  {
   "cell_type": "code",
   "execution_count": 14,
   "id": "42020dff-910e-4535-9638-dddaa6c0306e",
   "metadata": {},
   "outputs": [],
   "source": [
    "from surprise import SVD, Dataset, Reader\n",
    "from surprise.model_selection import cross_validate, train_test_split\n",
    "import pandas as pd\n"
   ]
  },
  {
   "cell_type": "code",
   "execution_count": 15,
   "id": "d0ec67f0-a153-4d77-9028-5c2bef8cdb2a",
   "metadata": {},
   "outputs": [],
   "source": [
    "# Define the rating scale (MovieLens uses 0.5 to 5.0)\n",
    "reader = Reader(rating_scale=(0.5, 5.0))\n",
    "\n",
    "# Load the data from the ratings DataFrame\n",
    "data = Dataset.load_from_df(ratings[['userId', 'movieId', 'rating']], reader)\n",
    "\n",
    "trainset, testset = train_test_split(data, test_size=0.2)\n"
   ]
  },
  {
   "cell_type": "code",
   "execution_count": 16,
   "id": "72cc33fa-02a7-445a-93d2-007dcab3b54b",
   "metadata": {},
   "outputs": [
    {
     "data": {
      "text/plain": [
       "<surprise.prediction_algorithms.matrix_factorization.SVD at 0x1712deb1f10>"
      ]
     },
     "execution_count": 16,
     "metadata": {},
     "output_type": "execute_result"
    }
   ],
   "source": [
    "# Initialize the model\n",
    "model = SVD()\n",
    "\n",
    "# Train it on the training set\n",
    "model.fit(trainset)\n"
   ]
  },
  {
   "cell_type": "code",
   "execution_count": 17,
   "id": "dbab1044-21b3-4245-9ada-608ba1a2ead0",
   "metadata": {},
   "outputs": [
    {
     "name": "stdout",
     "output_type": "stream",
     "text": [
      "RMSE: 0.8709\n"
     ]
    },
    {
     "data": {
      "text/plain": [
       "0.8709083097341981"
      ]
     },
     "execution_count": 17,
     "metadata": {},
     "output_type": "execute_result"
    }
   ],
   "source": [
    "from surprise import accuracy\n",
    "\n",
    "# Generate predictions\n",
    "predictions = model.test(testset)\n",
    "\n",
    "# Calculate RMSE (Root Mean Squared Error)\n",
    "accuracy.rmse(predictions)\n"
   ]
  },
  {
   "cell_type": "code",
   "execution_count": 18,
   "id": "3e02d129-a187-4e8f-a3d6-ba23d3b1250a",
   "metadata": {},
   "outputs": [
    {
     "name": "stdout",
     "output_type": "stream",
     "text": [
      "Evaluating RMSE, MAE of algorithm SVD on 5 split(s).\n",
      "\n",
      "                  Fold 1  Fold 2  Fold 3  Fold 4  Fold 5  Mean    Std     \n",
      "RMSE (testset)    0.8781  0.8644  0.8812  0.8725  0.8717  0.8736  0.0058  \n",
      "MAE (testset)     0.6740  0.6644  0.6764  0.6674  0.6724  0.6709  0.0044  \n",
      "Fit time          0.81    0.83    0.84    0.84    0.85    0.83    0.01    \n",
      "Test time         0.09    0.17    0.10    0.18    0.09    0.13    0.04    \n"
     ]
    },
    {
     "data": {
      "text/plain": [
       "{'test_rmse': array([0.87812292, 0.86437853, 0.88118416, 0.87248884, 0.87171871]),\n",
       " 'test_mae': array([0.67399946, 0.66435174, 0.67641178, 0.66741755, 0.67235042]),\n",
       " 'fit_time': (0.8085818290710449,\n",
       "  0.8257112503051758,\n",
       "  0.8426251411437988,\n",
       "  0.839850664138794,\n",
       "  0.8489053249359131),\n",
       " 'test_time': (0.09475493431091309,\n",
       "  0.17395377159118652,\n",
       "  0.09573984146118164,\n",
       "  0.17603826522827148,\n",
       "  0.09477996826171875)}"
      ]
     },
     "execution_count": 18,
     "metadata": {},
     "output_type": "execute_result"
    }
   ],
   "source": [
    "cross_validate(model, data, measures=['RMSE', 'MAE'], cv=5, verbose=True)\n"
   ]
  },
  {
   "cell_type": "code",
   "execution_count": 19,
   "id": "163ebce2-0b49-40d9-9346-0fedff3e62da",
   "metadata": {},
   "outputs": [
    {
     "data": {
      "text/html": [
       "<div>\n",
       "<style scoped>\n",
       "    .dataframe tbody tr th:only-of-type {\n",
       "        vertical-align: middle;\n",
       "    }\n",
       "\n",
       "    .dataframe tbody tr th {\n",
       "        vertical-align: top;\n",
       "    }\n",
       "\n",
       "    .dataframe thead th {\n",
       "        text-align: right;\n",
       "    }\n",
       "</style>\n",
       "<table border=\"1\" class=\"dataframe\">\n",
       "  <thead>\n",
       "    <tr style=\"text-align: right;\">\n",
       "      <th></th>\n",
       "      <th>title</th>\n",
       "      <th>predicted_rating</th>\n",
       "    </tr>\n",
       "  </thead>\n",
       "  <tbody>\n",
       "    <tr>\n",
       "      <th>0</th>\n",
       "      <td>Shawshank Redemption, The (1994)</td>\n",
       "      <td>5.00000</td>\n",
       "    </tr>\n",
       "    <tr>\n",
       "      <th>1</th>\n",
       "      <td>Dr. Strangelove or: How I Learned to Stop Worr...</td>\n",
       "      <td>5.00000</td>\n",
       "    </tr>\n",
       "    <tr>\n",
       "      <th>2</th>\n",
       "      <td>Streetcar Named Desire, A (1951)</td>\n",
       "      <td>5.00000</td>\n",
       "    </tr>\n",
       "    <tr>\n",
       "      <th>3</th>\n",
       "      <td>12 Angry Men (1957)</td>\n",
       "      <td>5.00000</td>\n",
       "    </tr>\n",
       "    <tr>\n",
       "      <th>4</th>\n",
       "      <td>Lawrence of Arabia (1962)</td>\n",
       "      <td>5.00000</td>\n",
       "    </tr>\n",
       "    <tr>\n",
       "      <th>5</th>\n",
       "      <td>Dark Knight, The (2008)</td>\n",
       "      <td>5.00000</td>\n",
       "    </tr>\n",
       "    <tr>\n",
       "      <th>6</th>\n",
       "      <td>Guardians of the Galaxy (2014)</td>\n",
       "      <td>5.00000</td>\n",
       "    </tr>\n",
       "    <tr>\n",
       "      <th>7</th>\n",
       "      <td>Spotlight (2015)</td>\n",
       "      <td>5.00000</td>\n",
       "    </tr>\n",
       "    <tr>\n",
       "      <th>8</th>\n",
       "      <td>North by Northwest (1959)</td>\n",
       "      <td>4.99127</td>\n",
       "    </tr>\n",
       "    <tr>\n",
       "      <th>9</th>\n",
       "      <td>Kiss Kiss Bang Bang (2005)</td>\n",
       "      <td>4.98924</td>\n",
       "    </tr>\n",
       "  </tbody>\n",
       "</table>\n",
       "</div>"
      ],
      "text/plain": [
       "                                               title  predicted_rating\n",
       "0                   Shawshank Redemption, The (1994)           5.00000\n",
       "1  Dr. Strangelove or: How I Learned to Stop Worr...           5.00000\n",
       "2                   Streetcar Named Desire, A (1951)           5.00000\n",
       "3                                12 Angry Men (1957)           5.00000\n",
       "4                          Lawrence of Arabia (1962)           5.00000\n",
       "5                            Dark Knight, The (2008)           5.00000\n",
       "6                     Guardians of the Galaxy (2014)           5.00000\n",
       "7                                   Spotlight (2015)           5.00000\n",
       "8                          North by Northwest (1959)           4.99127\n",
       "9                         Kiss Kiss Bang Bang (2005)           4.98924"
      ]
     },
     "execution_count": 19,
     "metadata": {},
     "output_type": "execute_result"
    }
   ],
   "source": [
    "user_id = 1\n",
    "all_movie_ids = movies['movieId'].unique()\n",
    "rated_movies = ratings[ratings['userId'] == user_id]['movieId']\n",
    "unrated_movies = [m for m in all_movie_ids if m not in rated_movies.values]\n",
    "\n",
    "predictions = [model.predict(user_id, movie_id) for movie_id in unrated_movies]\n",
    "predictions.sort(key=lambda x: x.est, reverse=True)\n",
    "top_predictions = predictions[:10]\n",
    "\n",
    "top_movie_ids = [pred.iid for pred in top_predictions]\n",
    "recommended_movies = movies[movies['movieId'].isin(top_movie_ids)]\n",
    "\n",
    "recommended_movies[['movieId', 'title']]\n",
    "\n",
    "recommendations = pd.DataFrame([\n",
    "    {\"movieId\": pred.iid, \"predicted_rating\": pred.est}\n",
    "    for pred in top_predictions\n",
    "]).merge(movies, on=\"movieId\")[[\"title\", \"predicted_rating\"]]\n",
    "\n",
    "recommendations\n"
   ]
  },
  {
   "cell_type": "code",
   "execution_count": 20,
   "id": "bb0b48e4-e1ab-45ae-91b9-0177f40d9a7c",
   "metadata": {},
   "outputs": [],
   "source": [
    "import numpy as np\n",
    "\n",
    "# Get movie and user latent features\n",
    "movie_factors = model.qi\n",
    "user_factors = model.pu\n",
    "\n",
    "movie_to_inner_id = {raw_id: inner_id for raw_id, inner_id in model.trainset._raw2inner_id_items.items()}\n",
    "inner_id_to_movie = {inner_id: raw_id for raw_id, inner_id in movie_to_inner_id.items()}\n"
   ]
  },
  {
   "cell_type": "code",
   "execution_count": 21,
   "id": "35241488-ad7f-474f-8ec1-72cb464cbdb1",
   "metadata": {},
   "outputs": [],
   "source": [
    "from numpy.linalg import norm\n",
    "\n",
    "def get_similar_movies(movie_title, n=10):\n",
    "    # Find movieId for given title\n",
    "    movie_id = movies[movies['title'].str.contains(movie_title, case=False, regex=False)]['movieId']\n",
    "    if movie_id.empty:\n",
    "        return f\"No movie found with title containing '{movie_title}'.\"\n",
    "    \n",
    "    movie_id = movie_id.iloc[0]\n",
    "    \n",
    "    # Get inner ID\n",
    "    inner_id = movie_to_inner_id.get(movie_id)\n",
    "    if inner_id is None:\n",
    "        return \"Movie not in training set.\"\n",
    "    \n",
    "    # Get vector for this movie\n",
    "    target_vector = movie_factors[inner_id]\n",
    "    \n",
    "    # Compute cosine similarity\n",
    "    sims = movie_factors.dot(target_vector) / (norm(movie_factors, axis=1) * norm(target_vector))\n",
    "    \n",
    "    # Get top similar movies (excluding itself)\n",
    "    similar_ids = np.argsort(sims)[::-1][1:n+1]\n",
    "    similar_movie_ids = [inner_id_to_movie[i] for i in similar_ids]\n",
    "    \n",
    "    return movies[movies['movieId'].isin(similar_movie_ids)][['title']]\n"
   ]
  },
  {
   "cell_type": "code",
   "execution_count": 23,
   "id": "a3e74e4b-2670-497c-86de-3333ee4af1b9",
   "metadata": {},
   "outputs": [
    {
     "data": {
      "text/html": [
       "<div>\n",
       "<style scoped>\n",
       "    .dataframe tbody tr th:only-of-type {\n",
       "        vertical-align: middle;\n",
       "    }\n",
       "\n",
       "    .dataframe tbody tr th {\n",
       "        vertical-align: top;\n",
       "    }\n",
       "\n",
       "    .dataframe thead th {\n",
       "        text-align: right;\n",
       "    }\n",
       "</style>\n",
       "<table border=\"1\" class=\"dataframe\">\n",
       "  <thead>\n",
       "    <tr style=\"text-align: right;\">\n",
       "      <th></th>\n",
       "      <th>title</th>\n",
       "    </tr>\n",
       "  </thead>\n",
       "  <tbody>\n",
       "    <tr>\n",
       "      <th>97</th>\n",
       "      <td>Braveheart (1995)</td>\n",
       "    </tr>\n",
       "    <tr>\n",
       "      <th>613</th>\n",
       "      <td>Trainspotting (1996)</td>\n",
       "    </tr>\n",
       "    <tr>\n",
       "      <th>839</th>\n",
       "      <td>Top Gun (1986)</td>\n",
       "    </tr>\n",
       "    <tr>\n",
       "      <th>898</th>\n",
       "      <td>Star Wars: Episode V - The Empire Strikes Back...</td>\n",
       "    </tr>\n",
       "    <tr>\n",
       "      <th>899</th>\n",
       "      <td>Princess Bride, The (1987)</td>\n",
       "    </tr>\n",
       "    <tr>\n",
       "      <th>1824</th>\n",
       "      <td>You've Got Mail (1998)</td>\n",
       "    </tr>\n",
       "    <tr>\n",
       "      <th>3991</th>\n",
       "      <td>Red Dragon (2002)</td>\n",
       "    </tr>\n",
       "    <tr>\n",
       "      <th>4277</th>\n",
       "      <td>Salaam Bombay! (1988)</td>\n",
       "    </tr>\n",
       "    <tr>\n",
       "      <th>5917</th>\n",
       "      <td>Batman Begins (2005)</td>\n",
       "    </tr>\n",
       "    <tr>\n",
       "      <th>6299</th>\n",
       "      <td>Science of Sleep, The (La science des rêves) (...</td>\n",
       "    </tr>\n",
       "  </tbody>\n",
       "</table>\n",
       "</div>"
      ],
      "text/plain": [
       "                                                  title\n",
       "97                                    Braveheart (1995)\n",
       "613                                Trainspotting (1996)\n",
       "839                                      Top Gun (1986)\n",
       "898   Star Wars: Episode V - The Empire Strikes Back...\n",
       "899                          Princess Bride, The (1987)\n",
       "1824                             You've Got Mail (1998)\n",
       "3991                                  Red Dragon (2002)\n",
       "4277                              Salaam Bombay! (1988)\n",
       "5917                               Batman Begins (2005)\n",
       "6299  Science of Sleep, The (La science des rêves) (..."
      ]
     },
     "execution_count": 23,
     "metadata": {},
     "output_type": "execute_result"
    }
   ],
   "source": [
    "get_similar_movies(\"Matrix\")\n"
   ]
  },
  {
   "cell_type": "code",
   "execution_count": 26,
   "id": "eb2c1a8d-9cf0-487a-b878-41e31a0debe1",
   "metadata": {},
   "outputs": [],
   "source": [
    "import pickle\n",
    "\n",
    "with open(\"svd_model.pkl\", \"wb\") as f:\n",
    "    pickle.dump(model, f)\n"
   ]
  },
  {
   "cell_type": "code",
   "execution_count": null,
   "id": "214a3973-bf22-471c-80bb-68bc1fa67df1",
   "metadata": {},
   "outputs": [],
   "source": []
  }
 ],
 "metadata": {
  "kernelspec": {
   "display_name": "Python (movienv)",
   "language": "python",
   "name": "movienv"
  },
  "language_info": {
   "codemirror_mode": {
    "name": "ipython",
    "version": 3
   },
   "file_extension": ".py",
   "mimetype": "text/x-python",
   "name": "python",
   "nbconvert_exporter": "python",
   "pygments_lexer": "ipython3",
   "version": "3.11.13"
  }
 },
 "nbformat": 4,
 "nbformat_minor": 5
}
